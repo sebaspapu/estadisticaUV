{
  "nbformat": 4,
  "nbformat_minor": 0,
  "metadata": {
    "colab": {
      "provenance": [],
      "toc_visible": true,
      "authorship_tag": "ABX9TyPtu3SYJfMv/678wcK+Kzxq",
      "include_colab_link": true
    },
    "kernelspec": {
      "name": "python3",
      "display_name": "Python 3"
    },
    "language_info": {
      "name": "python"
    }
  },
  "cells": [
    {
      "cell_type": "markdown",
      "metadata": {
        "id": "view-in-github",
        "colab_type": "text"
      },
      "source": [
        "<a href=\"https://colab.research.google.com/github/sebaspapu/estadisticaUV/blob/main/practica_2_python.ipynb\" target=\"_parent\"><img src=\"https://colab.research.google.com/assets/colab-badge.svg\" alt=\"Open In Colab\"/></a>"
      ]
    },
    {
      "cell_type": "code",
      "execution_count": null,
      "metadata": {
        "id": "9rje2AhS1s5u"
      },
      "outputs": [],
      "source": [
        "import seaborn as sb\n",
        "import pandas pd\n",
        "import numpy as np\n",
        "\n",
        "#data definition\n",
        "df = pd.read('diabetesok.csv')"
      ]
    }
  ]
}