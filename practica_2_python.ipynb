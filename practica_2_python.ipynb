{
  "cells": [
    {
      "cell_type": "markdown",
      "metadata": {
        "colab_type": "text",
        "id": "view-in-github"
      },
      "source": [
        "<a href=\"https://colab.research.google.com/github/sebaspapu/estadisticaUV/blob/main/practica_2_python.ipynb\" target=\"_parent\"><img src=\"https://colab.research.google.com/assets/colab-badge.svg\" alt=\"Open In Colab\"/></a>"
      ]
    },
    {
      "cell_type": "code",
      "execution_count": null,
      "metadata": {
        "id": "9rje2AhS1s5u"
      },
      "outputs": [],
      "source": [
        "import seaborn as sb\n",
        "import pandas pd\n",
        "import numpy as np\n",
        "\n",
        "#data definition\n",
        "df = pd.read('diabetesok.csv')\n",
        "\n",
        "#diagrama de barras en python\n",
        "\n",
        "conteos = [500,268]\n",
        "labels=[\"tested_negative\",\"tested_positive\"]\n",
        "plt.bar(x=labels, heigth=conteos, color=\"\")\n",
        "\n",
        "\n",
        "# diagrama de cajas de la edad vs class\n"
      ]
    }
  ],
  "metadata": {
    "colab": {
      "authorship_tag": "ABX9TyPtu3SYJfMv/678wcK+Kzxq",
      "include_colab_link": true,
      "provenance": [],
      "toc_visible": true
    },
    "kernelspec": {
      "display_name": "Python 3",
      "name": "python3"
    },
    "language_info": {
      "name": "python"
    }
  },
  "nbformat": 4,
  "nbformat_minor": 0
}
